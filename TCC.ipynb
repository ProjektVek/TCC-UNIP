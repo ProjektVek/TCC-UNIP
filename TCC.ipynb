{
  "nbformat": 4,
  "nbformat_minor": 0,
  "metadata": {
    "colab": {
      "provenance": [],
      "authorship_tag": "ABX9TyPPfWH6vDhYjubtutUXdrRV",
      "include_colab_link": true
    },
    "kernelspec": {
      "name": "python3",
      "display_name": "Python 3"
    },
    "language_info": {
      "name": "python"
    }
  },
  "cells": [
    {
      "cell_type": "markdown",
      "metadata": {
        "id": "view-in-github",
        "colab_type": "text"
      },
      "source": [
        "<a href=\"https://colab.research.google.com/github/ProjektVek/TCC-UNIP/blob/main/TCC.ipynb\" target=\"_parent\"><img src=\"https://colab.research.google.com/assets/colab-badge.svg\" alt=\"Open In Colab\"/></a>"
      ]
    },
    {
      "cell_type": "markdown",
      "source": [
        "<center><h1>Aprendizado de máquina aplicado à detecção de fraudes de cartão de crédito:</h1></center>\n",
        "\n",
        "---\n",
        "\n",
        " <center><h2>TCC 2023 - Ciência da Computação - UNIP Campinas</h2></center>\n",
        "\n",
        "---\n",
        "## Integrantes:\n",
        "  <ul>\n",
        "     <li><h2>Davi Ferreira Ribeiro</h2></li>\n",
        "     <li><h2>Ryan Vitor Rodrigues Teixeira</h2></li>\n",
        "     <li><h2>Victor Hugo Souza Ferreira</h2></li>\n",
        "  </ul>\n",
        "</h2>\n",
        "\n",
        "\n",
        "\n",
        "\n"
      ],
      "metadata": {
        "id": "0rHQfoazeWBB"
      }
    },
    {
      "cell_type": "code",
      "execution_count": null,
      "metadata": {
        "id": "H6T82LBA6pXM"
      },
      "outputs": [],
      "source": []
    }
  ]
}