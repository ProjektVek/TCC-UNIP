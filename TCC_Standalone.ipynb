{
  "cells": [
    {
      "cell_type": "markdown",
      "metadata": {
        "id": "view-in-github",
        "colab_type": "text"
      },
      "source": [
        "<a href=\"https://colab.research.google.com/github/ProjektVek/TCC-UNIP/blob/main/TCC_Standalone.ipynb\" target=\"_parent\"><img src=\"https://colab.research.google.com/assets/colab-badge.svg\" alt=\"Open In Colab\"/></a>"
      ]
    },
    {
      "cell_type": "markdown",
      "metadata": {
        "id": "kjXZALrOz82E"
      },
      "source": [
        "<center><h1>Aprendizado de máquina aplicado à detecção de fraudes de cartão de crédito:</h1></center>\n",
        "\n",
        "---\n",
        "\n",
        " <center><h2>TCC 2023 - Ciência da Computação - UNIP Campinas</h2></center>\n",
        "\n",
        "---\n",
        "## Integrantes:\n",
        "  <ul>\n",
        "     <li><h2>Davi Ferreira Ribeiro - F21AFG6</h2></li>\n",
        "     <li><h2>Ryan Vitor Rodrigues Teixeira - N662BC4</h2></li>\n",
        "     <li><h2>Victor Hugo Souza Ferreira - N587FF6</h2></li>\n",
        "  </ul>\n",
        "</h2>"
      ]
    },
    {
      "cell_type": "markdown",
      "metadata": {
        "id": "yLTJWHin0CPY"
      },
      "source": [
        "## Standalone para testar validar transações e testar tempo de execução"
      ]
    },
    {
      "cell_type": "markdown",
      "metadata": {
        "id": "nBMLF7_I1O3l"
      },
      "source": [
        "### Importando bibliotecas"
      ]
    },
    {
      "cell_type": "code",
      "execution_count": 71,
      "metadata": {
        "id": "SVP-mB5Zxol_"
      },
      "outputs": [],
      "source": [
        "from sklearn.naive_bayes import GaussianNB\n",
        "from sklearn.neighbors import KNeighborsClassifier\n",
        "from sklearn.svm import SVC\n",
        "from sklearn.metrics import confusion_matrix, accuracy_score, f1_score, precision_score, recall_score, roc_auc_score\n",
        "from os import listdir\n",
        "from random import randint\n",
        "import pandas as pnd\n",
        "import joblib\n",
        "import time"
      ]
    },
    {
      "cell_type": "markdown",
      "metadata": {
        "id": "tkrgeInE1Lxw"
      },
      "source": [
        "### Lendo Dataset"
      ]
    },
    {
      "cell_type": "code",
      "execution_count": 3,
      "metadata": {
        "id": "ZQtYrM_Q0xHH"
      },
      "outputs": [],
      "source": [
        "folder = \"drive/MyDrive/TCC/\"\n",
        "archive = \"creditcard.csv\"\n",
        "csv_dataset = pnd.read_csv(folder+archive)"
      ]
    },
    {
      "cell_type": "code",
      "execution_count": 4,
      "metadata": {
        "colab": {
          "base_uri": "https://localhost:8080/",
          "height": 235
        },
        "id": "Yn6Q8glC1evd",
        "outputId": "b2814359-a354-44fc-8dcf-2b5f7dfe6795"
      },
      "outputs": [
        {
          "output_type": "execute_result",
          "data": {
            "text/plain": [
              "   Time        V1        V2        V3        V4        V5        V6        V7  \\\n",
              "0   0.0 -1.359807 -0.072781  2.536347  1.378155 -0.338321  0.462388  0.239599   \n",
              "1   0.0  1.191857  0.266151  0.166480  0.448154  0.060018 -0.082361 -0.078803   \n",
              "2   1.0 -1.358354 -1.340163  1.773209  0.379780 -0.503198  1.800499  0.791461   \n",
              "3   1.0 -0.966272 -0.185226  1.792993 -0.863291 -0.010309  1.247203  0.237609   \n",
              "4   2.0 -1.158233  0.877737  1.548718  0.403034 -0.407193  0.095921  0.592941   \n",
              "\n",
              "         V8        V9  ...       V21       V22       V23       V24       V25  \\\n",
              "0  0.098698  0.363787  ... -0.018307  0.277838 -0.110474  0.066928  0.128539   \n",
              "1  0.085102 -0.255425  ... -0.225775 -0.638672  0.101288 -0.339846  0.167170   \n",
              "2  0.247676 -1.514654  ...  0.247998  0.771679  0.909412 -0.689281 -0.327642   \n",
              "3  0.377436 -1.387024  ... -0.108300  0.005274 -0.190321 -1.175575  0.647376   \n",
              "4 -0.270533  0.817739  ... -0.009431  0.798278 -0.137458  0.141267 -0.206010   \n",
              "\n",
              "        V26       V27       V28  Amount  Class  \n",
              "0 -0.189115  0.133558 -0.021053  149.62      0  \n",
              "1  0.125895 -0.008983  0.014724    2.69      0  \n",
              "2 -0.139097 -0.055353 -0.059752  378.66      0  \n",
              "3 -0.221929  0.062723  0.061458  123.50      0  \n",
              "4  0.502292  0.219422  0.215153   69.99      0  \n",
              "\n",
              "[5 rows x 31 columns]"
            ],
            "text/html": [
              "\n",
              "  <div id=\"df-7da192b4-5a79-4237-a5fa-40e075466180\" class=\"colab-df-container\">\n",
              "    <div>\n",
              "<style scoped>\n",
              "    .dataframe tbody tr th:only-of-type {\n",
              "        vertical-align: middle;\n",
              "    }\n",
              "\n",
              "    .dataframe tbody tr th {\n",
              "        vertical-align: top;\n",
              "    }\n",
              "\n",
              "    .dataframe thead th {\n",
              "        text-align: right;\n",
              "    }\n",
              "</style>\n",
              "<table border=\"1\" class=\"dataframe\">\n",
              "  <thead>\n",
              "    <tr style=\"text-align: right;\">\n",
              "      <th></th>\n",
              "      <th>Time</th>\n",
              "      <th>V1</th>\n",
              "      <th>V2</th>\n",
              "      <th>V3</th>\n",
              "      <th>V4</th>\n",
              "      <th>V5</th>\n",
              "      <th>V6</th>\n",
              "      <th>V7</th>\n",
              "      <th>V8</th>\n",
              "      <th>V9</th>\n",
              "      <th>...</th>\n",
              "      <th>V21</th>\n",
              "      <th>V22</th>\n",
              "      <th>V23</th>\n",
              "      <th>V24</th>\n",
              "      <th>V25</th>\n",
              "      <th>V26</th>\n",
              "      <th>V27</th>\n",
              "      <th>V28</th>\n",
              "      <th>Amount</th>\n",
              "      <th>Class</th>\n",
              "    </tr>\n",
              "  </thead>\n",
              "  <tbody>\n",
              "    <tr>\n",
              "      <th>0</th>\n",
              "      <td>0.0</td>\n",
              "      <td>-1.359807</td>\n",
              "      <td>-0.072781</td>\n",
              "      <td>2.536347</td>\n",
              "      <td>1.378155</td>\n",
              "      <td>-0.338321</td>\n",
              "      <td>0.462388</td>\n",
              "      <td>0.239599</td>\n",
              "      <td>0.098698</td>\n",
              "      <td>0.363787</td>\n",
              "      <td>...</td>\n",
              "      <td>-0.018307</td>\n",
              "      <td>0.277838</td>\n",
              "      <td>-0.110474</td>\n",
              "      <td>0.066928</td>\n",
              "      <td>0.128539</td>\n",
              "      <td>-0.189115</td>\n",
              "      <td>0.133558</td>\n",
              "      <td>-0.021053</td>\n",
              "      <td>149.62</td>\n",
              "      <td>0</td>\n",
              "    </tr>\n",
              "    <tr>\n",
              "      <th>1</th>\n",
              "      <td>0.0</td>\n",
              "      <td>1.191857</td>\n",
              "      <td>0.266151</td>\n",
              "      <td>0.166480</td>\n",
              "      <td>0.448154</td>\n",
              "      <td>0.060018</td>\n",
              "      <td>-0.082361</td>\n",
              "      <td>-0.078803</td>\n",
              "      <td>0.085102</td>\n",
              "      <td>-0.255425</td>\n",
              "      <td>...</td>\n",
              "      <td>-0.225775</td>\n",
              "      <td>-0.638672</td>\n",
              "      <td>0.101288</td>\n",
              "      <td>-0.339846</td>\n",
              "      <td>0.167170</td>\n",
              "      <td>0.125895</td>\n",
              "      <td>-0.008983</td>\n",
              "      <td>0.014724</td>\n",
              "      <td>2.69</td>\n",
              "      <td>0</td>\n",
              "    </tr>\n",
              "    <tr>\n",
              "      <th>2</th>\n",
              "      <td>1.0</td>\n",
              "      <td>-1.358354</td>\n",
              "      <td>-1.340163</td>\n",
              "      <td>1.773209</td>\n",
              "      <td>0.379780</td>\n",
              "      <td>-0.503198</td>\n",
              "      <td>1.800499</td>\n",
              "      <td>0.791461</td>\n",
              "      <td>0.247676</td>\n",
              "      <td>-1.514654</td>\n",
              "      <td>...</td>\n",
              "      <td>0.247998</td>\n",
              "      <td>0.771679</td>\n",
              "      <td>0.909412</td>\n",
              "      <td>-0.689281</td>\n",
              "      <td>-0.327642</td>\n",
              "      <td>-0.139097</td>\n",
              "      <td>-0.055353</td>\n",
              "      <td>-0.059752</td>\n",
              "      <td>378.66</td>\n",
              "      <td>0</td>\n",
              "    </tr>\n",
              "    <tr>\n",
              "      <th>3</th>\n",
              "      <td>1.0</td>\n",
              "      <td>-0.966272</td>\n",
              "      <td>-0.185226</td>\n",
              "      <td>1.792993</td>\n",
              "      <td>-0.863291</td>\n",
              "      <td>-0.010309</td>\n",
              "      <td>1.247203</td>\n",
              "      <td>0.237609</td>\n",
              "      <td>0.377436</td>\n",
              "      <td>-1.387024</td>\n",
              "      <td>...</td>\n",
              "      <td>-0.108300</td>\n",
              "      <td>0.005274</td>\n",
              "      <td>-0.190321</td>\n",
              "      <td>-1.175575</td>\n",
              "      <td>0.647376</td>\n",
              "      <td>-0.221929</td>\n",
              "      <td>0.062723</td>\n",
              "      <td>0.061458</td>\n",
              "      <td>123.50</td>\n",
              "      <td>0</td>\n",
              "    </tr>\n",
              "    <tr>\n",
              "      <th>4</th>\n",
              "      <td>2.0</td>\n",
              "      <td>-1.158233</td>\n",
              "      <td>0.877737</td>\n",
              "      <td>1.548718</td>\n",
              "      <td>0.403034</td>\n",
              "      <td>-0.407193</td>\n",
              "      <td>0.095921</td>\n",
              "      <td>0.592941</td>\n",
              "      <td>-0.270533</td>\n",
              "      <td>0.817739</td>\n",
              "      <td>...</td>\n",
              "      <td>-0.009431</td>\n",
              "      <td>0.798278</td>\n",
              "      <td>-0.137458</td>\n",
              "      <td>0.141267</td>\n",
              "      <td>-0.206010</td>\n",
              "      <td>0.502292</td>\n",
              "      <td>0.219422</td>\n",
              "      <td>0.215153</td>\n",
              "      <td>69.99</td>\n",
              "      <td>0</td>\n",
              "    </tr>\n",
              "  </tbody>\n",
              "</table>\n",
              "<p>5 rows × 31 columns</p>\n",
              "</div>\n",
              "    <div class=\"colab-df-buttons\">\n",
              "\n",
              "  <div class=\"colab-df-container\">\n",
              "    <button class=\"colab-df-convert\" onclick=\"convertToInteractive('df-7da192b4-5a79-4237-a5fa-40e075466180')\"\n",
              "            title=\"Convert this dataframe to an interactive table.\"\n",
              "            style=\"display:none;\">\n",
              "\n",
              "  <svg xmlns=\"http://www.w3.org/2000/svg\" height=\"24px\" viewBox=\"0 -960 960 960\">\n",
              "    <path d=\"M120-120v-720h720v720H120Zm60-500h600v-160H180v160Zm220 220h160v-160H400v160Zm0 220h160v-160H400v160ZM180-400h160v-160H180v160Zm440 0h160v-160H620v160ZM180-180h160v-160H180v160Zm440 0h160v-160H620v160Z\"/>\n",
              "  </svg>\n",
              "    </button>\n",
              "\n",
              "  <style>\n",
              "    .colab-df-container {\n",
              "      display:flex;\n",
              "      gap: 12px;\n",
              "    }\n",
              "\n",
              "    .colab-df-convert {\n",
              "      background-color: #E8F0FE;\n",
              "      border: none;\n",
              "      border-radius: 50%;\n",
              "      cursor: pointer;\n",
              "      display: none;\n",
              "      fill: #1967D2;\n",
              "      height: 32px;\n",
              "      padding: 0 0 0 0;\n",
              "      width: 32px;\n",
              "    }\n",
              "\n",
              "    .colab-df-convert:hover {\n",
              "      background-color: #E2EBFA;\n",
              "      box-shadow: 0px 1px 2px rgba(60, 64, 67, 0.3), 0px 1px 3px 1px rgba(60, 64, 67, 0.15);\n",
              "      fill: #174EA6;\n",
              "    }\n",
              "\n",
              "    .colab-df-buttons div {\n",
              "      margin-bottom: 4px;\n",
              "    }\n",
              "\n",
              "    [theme=dark] .colab-df-convert {\n",
              "      background-color: #3B4455;\n",
              "      fill: #D2E3FC;\n",
              "    }\n",
              "\n",
              "    [theme=dark] .colab-df-convert:hover {\n",
              "      background-color: #434B5C;\n",
              "      box-shadow: 0px 1px 3px 1px rgba(0, 0, 0, 0.15);\n",
              "      filter: drop-shadow(0px 1px 2px rgba(0, 0, 0, 0.3));\n",
              "      fill: #FFFFFF;\n",
              "    }\n",
              "  </style>\n",
              "\n",
              "    <script>\n",
              "      const buttonEl =\n",
              "        document.querySelector('#df-7da192b4-5a79-4237-a5fa-40e075466180 button.colab-df-convert');\n",
              "      buttonEl.style.display =\n",
              "        google.colab.kernel.accessAllowed ? 'block' : 'none';\n",
              "\n",
              "      async function convertToInteractive(key) {\n",
              "        const element = document.querySelector('#df-7da192b4-5a79-4237-a5fa-40e075466180');\n",
              "        const dataTable =\n",
              "          await google.colab.kernel.invokeFunction('convertToInteractive',\n",
              "                                                    [key], {});\n",
              "        if (!dataTable) return;\n",
              "\n",
              "        const docLinkHtml = 'Like what you see? Visit the ' +\n",
              "          '<a target=\"_blank\" href=https://colab.research.google.com/notebooks/data_table.ipynb>data table notebook</a>'\n",
              "          + ' to learn more about interactive tables.';\n",
              "        element.innerHTML = '';\n",
              "        dataTable['output_type'] = 'display_data';\n",
              "        await google.colab.output.renderOutput(dataTable, element);\n",
              "        const docLink = document.createElement('div');\n",
              "        docLink.innerHTML = docLinkHtml;\n",
              "        element.appendChild(docLink);\n",
              "      }\n",
              "    </script>\n",
              "  </div>\n",
              "\n",
              "\n",
              "<div id=\"df-aa0626f4-a4bc-49c4-b190-865652526aee\">\n",
              "  <button class=\"colab-df-quickchart\" onclick=\"quickchart('df-aa0626f4-a4bc-49c4-b190-865652526aee')\"\n",
              "            title=\"Suggest charts.\"\n",
              "            style=\"display:none;\">\n",
              "\n",
              "<svg xmlns=\"http://www.w3.org/2000/svg\" height=\"24px\"viewBox=\"0 0 24 24\"\n",
              "     width=\"24px\">\n",
              "    <g>\n",
              "        <path d=\"M19 3H5c-1.1 0-2 .9-2 2v14c0 1.1.9 2 2 2h14c1.1 0 2-.9 2-2V5c0-1.1-.9-2-2-2zM9 17H7v-7h2v7zm4 0h-2V7h2v10zm4 0h-2v-4h2v4z\"/>\n",
              "    </g>\n",
              "</svg>\n",
              "  </button>\n",
              "\n",
              "<style>\n",
              "  .colab-df-quickchart {\n",
              "    background-color: #E8F0FE;\n",
              "    border: none;\n",
              "    border-radius: 50%;\n",
              "    cursor: pointer;\n",
              "    display: none;\n",
              "    fill: #1967D2;\n",
              "    height: 32px;\n",
              "    padding: 0 0 0 0;\n",
              "    width: 32px;\n",
              "  }\n",
              "\n",
              "  .colab-df-quickchart:hover {\n",
              "    background-color: #E2EBFA;\n",
              "    box-shadow: 0px 1px 2px rgba(60, 64, 67, 0.3), 0px 1px 3px 1px rgba(60, 64, 67, 0.15);\n",
              "    fill: #174EA6;\n",
              "  }\n",
              "\n",
              "  [theme=dark] .colab-df-quickchart {\n",
              "    background-color: #3B4455;\n",
              "    fill: #D2E3FC;\n",
              "  }\n",
              "\n",
              "  [theme=dark] .colab-df-quickchart:hover {\n",
              "    background-color: #434B5C;\n",
              "    box-shadow: 0px 1px 3px 1px rgba(0, 0, 0, 0.15);\n",
              "    filter: drop-shadow(0px 1px 2px rgba(0, 0, 0, 0.3));\n",
              "    fill: #FFFFFF;\n",
              "  }\n",
              "</style>\n",
              "\n",
              "  <script>\n",
              "    async function quickchart(key) {\n",
              "      const charts = await google.colab.kernel.invokeFunction(\n",
              "          'suggestCharts', [key], {});\n",
              "    }\n",
              "    (() => {\n",
              "      let quickchartButtonEl =\n",
              "        document.querySelector('#df-aa0626f4-a4bc-49c4-b190-865652526aee button');\n",
              "      quickchartButtonEl.style.display =\n",
              "        google.colab.kernel.accessAllowed ? 'block' : 'none';\n",
              "    })();\n",
              "  </script>\n",
              "</div>\n",
              "    </div>\n",
              "  </div>\n"
            ]
          },
          "metadata": {},
          "execution_count": 4
        }
      ],
      "source": [
        "csv_dataset.head(5)"
      ]
    },
    {
      "cell_type": "markdown",
      "metadata": {
        "id": "490wbJtO2Ivi"
      },
      "source": [
        "### Separando Dados"
      ]
    },
    {
      "cell_type": "code",
      "execution_count": 5,
      "metadata": {
        "id": "eICce4je2L8i"
      },
      "outputs": [],
      "source": [
        "frauds = csv_dataset[csv_dataset.Class==1]\n",
        "valid_transactions = csv_dataset[csv_dataset.Class==0]"
      ]
    },
    {
      "cell_type": "code",
      "execution_count": 6,
      "metadata": {
        "colab": {
          "base_uri": "https://localhost:8080/"
        },
        "id": "qCppp1G32tH6",
        "outputId": "a5e10916-a3da-4045-c7c0-658e39268f0e"
      },
      "outputs": [
        {
          "output_type": "stream",
          "name": "stdout",
          "text": [
            "492\n",
            "284315\n"
          ]
        }
      ],
      "source": [
        "print(len(frauds))\n",
        "print(len(valid_transactions))"
      ]
    },
    {
      "cell_type": "markdown",
      "metadata": {
        "id": "fQlWTTN33szb"
      },
      "source": [
        "### Funções do programa:"
      ]
    },
    {
      "cell_type": "markdown",
      "source": [
        "#### Ler Transações"
      ],
      "metadata": {
        "id": "YJrOLHu_aZ8h"
      }
    },
    {
      "cell_type": "code",
      "execution_count": 7,
      "metadata": {
        "id": "cdmUuc_U--z1"
      },
      "outputs": [],
      "source": [
        "def getTransactions():\n",
        "  folder = \"drive/MyDrive/TCC/\"\n",
        "  archive = \"creditcard.csv\"\n",
        "  return pnd.read_csv(folder+archive)"
      ]
    },
    {
      "cell_type": "markdown",
      "source": [
        "#### Escolher Modelo"
      ],
      "metadata": {
        "id": "Qfkzq1s4afJK"
      }
    },
    {
      "cell_type": "code",
      "execution_count": 8,
      "metadata": {
        "id": "0KRJYZpRWIH0"
      },
      "outputs": [],
      "source": [
        "def chooseModelMenu(models):\n",
        "  print(\"\\nEscolha uma opção de modelo:\\n\")\n",
        "  print(\"0 - Cancelar\")\n",
        "  for i in range(0,len(models)):\n",
        "    match models[i]:\n",
        "      case \"gaussian_nb_500.pkl\":\n",
        "        model = \"Gaussian Naive Bayes 500 transações válidas\"\n",
        "      case \"gaussian_nb_1000.pkl\":\n",
        "        model = \"Gaussian Naive Bayes 1000 transações válidas\"\n",
        "      case \"gaussian_nb_3000.pkl\":\n",
        "        model = \"Gaussian Naive Bayes 3000 transações válidas\"\n",
        "      case \"K_Nearest_Neighbors_500.pkl\":\n",
        "        model = \"K-Nearest Neighbors 500 transações válidas\"\n",
        "      case \"K_Nearest_Neighbors_1000.pkl\":\n",
        "        model = \"K-Nearest Neighbors 1000 transações válidas\"\n",
        "      case \"K_Nearest_Neighbors_3000.pkl\":\n",
        "        model = \"K-Nearest Neighbors 3000 transações válidas\"\n",
        "      case \"svc_500.pkl\":\n",
        "        model = \"Support Vector Classifier 500 transações válidas\"\n",
        "      case \"svc_1000.pkl\":\n",
        "        model = \"Support Vector Classifier 1000 transações válidas\"\n",
        "      case \"svc_3000.pkl\":\n",
        "        model = \"Support Vector Classifier 3000 transações válidas\"\n",
        "      case _:\n",
        "        model = models[i]\n",
        "    print(f'{(i+1)} - {model}')\n",
        "\n",
        "  return int(input(\"\\nDigite o número do modelo desejado: \"))"
      ]
    },
    {
      "cell_type": "code",
      "execution_count": 9,
      "metadata": {
        "id": "GK1_ml2LVu9n"
      },
      "outputs": [],
      "source": [
        "def chooseModel():\n",
        "  model_folder = \"drive/MyDrive/TCC/modelos/\"\n",
        "  models = listdir(model_folder)\n",
        "\n",
        "  choice = -1\n",
        "  while choice != 0:\n",
        "    choice = chooseModelMenu(models)\n",
        "    if (choice < 0) or (choice > len(models)):\n",
        "      print(\"\\nOpção Inválida, digite novamente\")\n",
        "    else:\n",
        "      if choice > 0:\n",
        "        return model_folder + models[choice-1]\n",
        "      else:\n",
        "        break"
      ]
    },
    {
      "cell_type": "markdown",
      "source": [
        "#### Registro Único"
      ],
      "metadata": {
        "id": "SQE0BDS2bh0V"
      }
    },
    {
      "cell_type": "code",
      "execution_count": 10,
      "metadata": {
        "id": "EBIb4AzunkCr"
      },
      "outputs": [],
      "source": [
        "def singleRegisterInfo(dataframe, register):\n",
        "  register_index = register.index.values.astype(int)[0]\n",
        "  register_class = register.Class.values.astype(int)[0]\n",
        "  print(f\"\\nÍndice do registro: {register_index + 1}\")\n",
        "  register_type = \"Fraude\"\n",
        "  if register_class == 0:\n",
        "    register_type = \"Normal\"\n",
        "  print(f'Tipo do registro: {register_type}')\n",
        "\n",
        "  if register_class == 0:\n",
        "    index_list = dataframe.index[dataframe.Class==0].tolist()\n",
        "    position = index_list.index(register_index)\n",
        "    print(f'Posição entre os registros válidos: {position+1}')\n",
        "  else:\n",
        "    index_list = dataframe.index[dataframe.Class==1].tolist()\n",
        "    position = index_list.index(register_index)\n",
        "    print(f'Posição entre os registros fraudulentos: {position+1}')"
      ]
    },
    {
      "cell_type": "code",
      "execution_count": 33,
      "metadata": {
        "id": "xsP_MBwTnBGa"
      },
      "outputs": [],
      "source": [
        "def predictSingleRegister(model_location, register):\n",
        "  model = joblib.load(model_location)\n",
        "  start_time = time.time()\n",
        "  model_prediction = model.predict(register.drop(columns=['Time', 'V5', 'V6', 'V7','V8','V13','V15', 'V20','V21','V22','V23', 'V24','V25','V26','V27','V28','Amount','Class']))\n",
        "  execution_time = time.time() - start_time\n",
        "\n",
        "  prediction = \"VÁLIDA\"\n",
        "  if model_prediction[0] == 1:\n",
        "    prediction = \"FRAUDULENTA\"\n",
        "\n",
        "  prediction_accuracy = \"CORRETA\"\n",
        "  if model_prediction[0] != register.Class.values.astype(int)[0]:\n",
        "    prediction_accuracy = \"ERRADA\"\n",
        "\n",
        "  print(f'O modelo previu que a transação é {prediction} e sua previsão está {prediction_accuracy}')\n",
        "  print(f'Tempo de execução: {\"{:.2f}\".format(execution_time*1000)} Milisegundos')"
      ]
    },
    {
      "cell_type": "code",
      "source": [
        "def processSingleRegister(register):\n",
        "  model_location = chooseModel()\n",
        "  if model_location == None:\n",
        "    return\n",
        "  singleRegisterInfo(all_transactions, register)\n",
        "  predictSingleRegister(model_location, register)"
      ],
      "metadata": {
        "id": "4nWInDZTogQp"
      },
      "execution_count": 12,
      "outputs": []
    },
    {
      "cell_type": "markdown",
      "source": [
        "#### Menu Principal"
      ],
      "metadata": {
        "id": "jqhT6YVXbwp4"
      }
    },
    {
      "cell_type": "code",
      "execution_count": 13,
      "metadata": {
        "id": "dP82R5Et34G_"
      },
      "outputs": [],
      "source": [
        "def printMenu():\n",
        "  print(\"\\nQual operação que deseja realizar?: \\n\")\n",
        "  print(\"1 - Validar transação única\")\n",
        "  print(\"2 - Validar várias transações\")\n",
        "  print(\"3 - Sair\\n\")\n",
        "  return str(input(\"Digite o número da operação que deseja realizar: \"))"
      ]
    },
    {
      "cell_type": "markdown",
      "source": [
        "#### Registro Aleatório"
      ],
      "metadata": {
        "id": "t0DUMl4Eb1t_"
      }
    },
    {
      "cell_type": "code",
      "execution_count": 14,
      "metadata": {
        "id": "vGizKbOdOeQa"
      },
      "outputs": [],
      "source": [
        "def randomRegisterMenu():\n",
        "  print(\"\\nEscolha uma opcão: \\n\")\n",
        "  print(\"1 - Registro aleatório (fraude ou normal)\")\n",
        "  print(\"2 - Registro de fraude\")\n",
        "  print(\"3 - Registro normal\")\n",
        "  print(\"4 - Cancelar\")\n",
        "  return str(input(\"\\nDigite o número da opção escolhida: \"))"
      ]
    },
    {
      "cell_type": "code",
      "execution_count": 15,
      "metadata": {
        "id": "0xuVHbDBODpg"
      },
      "outputs": [],
      "source": [
        "def randomRegister():\n",
        "  choice = randomRegisterMenu()\n",
        "  while choice != \"4\":\n",
        "    match choice:\n",
        "      case \"1\":\n",
        "        processSingleRegister(all_transactions[all_transactions.Class==(randint(0,1))].sample())\n",
        "        break\n",
        "      case \"2\":\n",
        "        processSingleRegister(frauds.sample())\n",
        "        break\n",
        "      case \"3\":\n",
        "        processSingleRegister(valid_transactions.sample())\n",
        "        break\n",
        "      case _:\n",
        "        print(\"\\nOpção Inválida, digite novamente\")\n",
        "        choice = randomRegisterMenu()"
      ]
    },
    {
      "cell_type": "markdown",
      "source": [
        "#### Posição Relativa"
      ],
      "metadata": {
        "id": "VBHtWGr4sEiJ"
      }
    },
    {
      "cell_type": "code",
      "source": [
        "def getClassMenu():\n",
        "  choice = -1\n",
        "  while choice < 0 or choice > 2:\n",
        "    print(\"\\nEscolha uma opção: \")\n",
        "    print(\"\\n1 - Transação Válida\")\n",
        "    print(\"2 - Transação Fraudulenta\")\n",
        "    print(\"3 - Cancelar\")\n",
        "\n",
        "    choice = int(input(\"\\nDigite uma opção: \")) - 1\n",
        "\n",
        "    if choice == 2:\n",
        "      break\n",
        "    elif choice == 0 or choice == 1:\n",
        "      return choice\n",
        "    else:\n",
        "      print(\"\\nOpção inválida, digite novamente\")"
      ],
      "metadata": {
        "id": "qgqXVuEbtkkR"
      },
      "execution_count": 16,
      "outputs": []
    },
    {
      "cell_type": "code",
      "source": [
        "def relativePositionMenu(register_class):\n",
        "  position = -1\n",
        "  list_size = len(all_transactions[all_transactions.Class==register_class])\n",
        "  register_type = \"\"\n",
        "  if register_class == 1:\n",
        "    register_type = \"FRAUDULENTA\"\n",
        "  else:\n",
        "    register_type = \"VÁLIDA\"\n",
        "\n",
        "  while position < 0 or position >= list_size:\n",
        "    position = int(input(f'\\nDigite a posição relativa da transação {register_type} (de 1 a {list_size}): ')) - 1\n",
        "    if position < 0 or position >= list_size:\n",
        "      print('\\nPosição inválida, digite novamente')\n",
        "    else:\n",
        "      return position"
      ],
      "metadata": {
        "id": "eucZHGb9vmym"
      },
      "execution_count": 17,
      "outputs": []
    },
    {
      "cell_type": "code",
      "source": [
        "def relativePosition():\n",
        "  register_class = getClassMenu()\n",
        "  if register_class == None:\n",
        "    return\n",
        "  relative_position = relativePositionMenu(register_class)\n",
        "  register_index = all_transactions.index[all_transactions.Class==register_class].tolist()[relative_position]\n",
        "  processSingleRegister(all_transactions[all_transactions.index==register_index])"
      ],
      "metadata": {
        "id": "O7c2BPWKsDcc"
      },
      "execution_count": 18,
      "outputs": []
    },
    {
      "cell_type": "markdown",
      "source": [
        "#### Posição absoluta"
      ],
      "metadata": {
        "id": "WpBzwZOHQjfH"
      }
    },
    {
      "cell_type": "code",
      "source": [
        "def getAbsolutePosition():\n",
        "  position = -1\n",
        "  list_length = len(all_transactions)\n",
        "\n",
        "  while position < 0 or position > list_length:\n",
        "    position = int(input(f'\\nDigite a posição desejada (de 1 a {list_length}): ')) - 1\n",
        "    if position >= 0 and position < list_length:\n",
        "      return position\n",
        "    print(\"\\nOpção inválida, digite novamente\")"
      ],
      "metadata": {
        "id": "fhn_oa3tQvsl"
      },
      "execution_count": 19,
      "outputs": []
    },
    {
      "cell_type": "code",
      "source": [
        "def absolutePosition():\n",
        "  position = getAbsolutePosition()\n",
        "  processSingleRegister(all_transactions[all_transactions.index==position])"
      ],
      "metadata": {
        "id": "hkB9TDf3QsBk"
      },
      "execution_count": 20,
      "outputs": []
    },
    {
      "cell_type": "markdown",
      "source": [
        "#### Validação de Transação Única"
      ],
      "metadata": {
        "id": "ym4VKuTAcGZ9"
      }
    },
    {
      "cell_type": "code",
      "execution_count": 21,
      "metadata": {
        "id": "MU7v5D09ALF9"
      },
      "outputs": [],
      "source": [
        "def singleTransactionValidationMenu():\n",
        "  print(\"\\nEscolha uma opcão: \\n\")\n",
        "  print(\"1 - Escolher aleatoriamente um registro\")\n",
        "  print(\"2 - Escolher a posição relativa do registro\")\n",
        "  print(\"3 - Escolher a posição exata do registro\")\n",
        "  print(\"4 - Cancelar\")\n",
        "  return str(input(\"\\nDigite o número da opção escolhida: \"))"
      ]
    },
    {
      "cell_type": "code",
      "execution_count": 22,
      "metadata": {
        "id": "ubMCinHL_uwP"
      },
      "outputs": [],
      "source": [
        "def singleTransactionValidation():\n",
        "  choice = singleTransactionValidationMenu()\n",
        "  while choice != \"4\":\n",
        "    match choice:\n",
        "      case \"1\":\n",
        "        randomRegister()\n",
        "        break\n",
        "      case \"2\":\n",
        "        relativePosition()\n",
        "        break\n",
        "      case \"3\":\n",
        "        absolutePosition()\n",
        "        break\n",
        "      case _:\n",
        "        print(\"\\nOpção Inválida, digite novamente\")\n",
        "        choice = singleTransactionValidationMenu()"
      ]
    },
    {
      "cell_type": "markdown",
      "source": [
        "#### Várias transações"
      ],
      "metadata": {
        "id": "50G6pGsaREAI"
      }
    },
    {
      "cell_type": "code",
      "source": [
        "def predictManyRegisters(model_location, registers):\n",
        "  model = joblib.load(model_location)\n",
        "\n",
        "  start_time = time.time()\n",
        "  model_prediction = model.predict(registers.drop(columns=['Time', 'V5', 'V6', 'V7','V8','V13','V15', 'V20','V21','V22','V23', 'V24','V25','V26','V27','V28','Amount','Class']))\n",
        "  execution_time = time.time() - start_time\n",
        "\n",
        "  average_time = execution_time/len(registers)\n",
        "\n",
        "  true_values = registers.Class.tolist()\n",
        "  confusion_mtrx = confusion_matrix(true_values, model_prediction)\n",
        "\n",
        "  print(f\"\\nQuantidade total de transações: {len(registers)} ({len(registers[registers.Class==1])} fraudes/ {len(registers[registers.Class==0])} válidas)\")\n",
        "  print(f'Verdadeiros negativos: {confusion_mtrx[0][0]} - Falsos negativos: {confusion_mtrx[1][0]}')\n",
        "  print(f'Verdadeiros positivos: {confusion_mtrx[1][1]} - Falsos positivos: {confusion_mtrx[0][1]}')\n",
        "\n",
        "  print(\"\\nMétricas: \")\n",
        "  print(f'Accuracy: {\"{:.2f}\".format(accuracy_score(true_values, model_prediction))}%')\n",
        "  print(f'F1: {\"{:.2f}\".format(f1_score(true_values, model_prediction))}%')\n",
        "  print(f'Precision: {\"{:.2f}\".format(precision_score(true_values, model_prediction))}%')\n",
        "  print(f'Recall: {\"{:.2f}\".format(recall_score(true_values, model_prediction))}%')\n",
        "  print(f'Roc Auc: {\"{:.2f}\".format(roc_auc_score(true_values, model_prediction))}%')\n",
        "\n",
        "  print(f'\\nTempo total de execução: {\"{:.2f}\".format(execution_time*1000)} Milisegundos')\n",
        "  print(f'Tempo médio de execução: {\"{:.5f}\".format(average_time*1000)} Milisegundos')"
      ],
      "metadata": {
        "id": "fFPahqvYYJ0H"
      },
      "execution_count": 72,
      "outputs": []
    },
    {
      "cell_type": "code",
      "source": [
        "def processManyRegisters(registers):\n",
        "  model_location = chooseModel()\n",
        "  if model_location == None:\n",
        "    return\n",
        "  predictManyRegisters(model_location, registers)"
      ],
      "metadata": {
        "id": "2afM8H3HXt57"
      },
      "execution_count": 36,
      "outputs": []
    },
    {
      "cell_type": "code",
      "source": [
        "def getRandomTransactions(valid_qtt, fraud_qtt):\n",
        "  valid_samples = valid_transactions.sample(valid_qtt)\n",
        "  fraud_samples = frauds.sample(fraud_qtt)\n",
        "  samples = pnd.concat([valid_samples, fraud_samples])\n",
        "  return samples"
      ],
      "metadata": {
        "id": "2AC7TnjhVxKO"
      },
      "execution_count": 48,
      "outputs": []
    },
    {
      "cell_type": "code",
      "source": [
        "def manyTransactionsMenu():\n",
        "  valid_qtt = -1\n",
        "  fraud_qtt = -1\n",
        "  valid_length = len(valid_transactions)\n",
        "  fraud_length = len(frauds)\n",
        "\n",
        "  while valid_qtt < 1 or valid_qtt > valid_length:\n",
        "    valid_qtt = int(input(f\"\\nDigite a quantidade total de transações válidas (de 1 a {valid_length}): \"))\n",
        "    if valid_qtt < 1 or valid_qtt > valid_length:\n",
        "      print(\"\\nQuantidade inválida, digite novamente\")\n",
        "\n",
        "  while fraud_qtt < 1 or fraud_qtt > fraud_length:\n",
        "    fraud_qtt = int(input(f\"\\nDigite a quantidade total de transações fraudulentas (de 1 a {fraud_length}): \"))\n",
        "    if fraud_qtt < 1 or fraud_qtt > fraud_length:\n",
        "      print(\"\\nQuantidade inválida, digite novamente\")\n",
        "\n",
        "  return valid_qtt, fraud_qtt"
      ],
      "metadata": {
        "id": "LK2ztMVLRLAD"
      },
      "execution_count": 53,
      "outputs": []
    },
    {
      "cell_type": "code",
      "source": [
        "def manyTransactions():\n",
        "  valid_qtt, fraud_qtt = manyTransactionsMenu()\n",
        "  transactions = getRandomTransactions(valid_qtt, fraud_qtt)\n",
        "  processManyRegisters(transactions)"
      ],
      "metadata": {
        "id": "4Q1DmB2bRUTq"
      },
      "execution_count": 43,
      "outputs": []
    },
    {
      "cell_type": "markdown",
      "metadata": {
        "id": "6PS04LXW5W5F"
      },
      "source": [
        "### Programa:"
      ]
    },
    {
      "cell_type": "code",
      "execution_count": 73,
      "metadata": {
        "colab": {
          "base_uri": "https://localhost:8080/"
        },
        "id": "83QFuQvT5Zqj",
        "outputId": "73e781ee-56e6-4e82-bf2d-d591f51d1d0f"
      },
      "outputs": [
        {
          "name": "stdout",
          "output_type": "stream",
          "text": [
            "\n",
            "Qual operação que deseja realizar?: \n",
            "\n",
            "1 - Validar transação única\n",
            "2 - Validar várias transações\n",
            "3 - Sair\n",
            "\n",
            "Digite o número da operação que deseja realizar: 2\n",
            "\n",
            "Digite a quantidade total de transações válidas (de 1 a 284315): 500\n",
            "\n",
            "Digite a quantidade total de transações fraudulentas (de 1 a 492): 492\n",
            "\n",
            "Escolha uma opção de modelo:\n",
            "\n",
            "0 - Cancelar\n",
            "1 - Gaussian Naive Bayes 500 transações válidas\n",
            "2 - Gaussian Naive Bayes 3000 transações válidas\n",
            "3 - Gaussian Naive Bayes 1000 transações válidas\n",
            "4 - K-Nearest Neighbors 500 transações válidas\n",
            "5 - K-Nearest Neighbors 1000 transações válidas\n",
            "6 - K-Nearest Neighbors 3000 transações válidas\n",
            "7 - Support Vector Classifier 500 transações válidas\n",
            "8 - Support Vector Classifier 1000 transações válidas\n",
            "9 - Support Vector Classifier 3000 transações válidas\n",
            "\n",
            "Digite o número do modelo desejado: 5\n",
            "\n",
            "Quantidade total de transações: 992 (492 fraudes/ 500 válidas)\n",
            "Verdadeiros negativos: 498 - Falsos negativos: 54\n",
            "Verdadeiros positivos: 438 - Falsos positivos: 2\n",
            "\n",
            "Métricas: \n",
            "Accuracy: 0.94%\n",
            "F1: 0.94%\n",
            "Precision: 1.00%\n",
            "Recall: 0.89%\n",
            "Roc Auc: 0.94%\n",
            "\n",
            "Tempo total de execução: 77.02 Milisegundos\n",
            "Tempo médio de execução: 0.07764 Milisegundos\n",
            "\n",
            "Qual operação que deseja realizar?: \n",
            "\n",
            "1 - Validar transação única\n",
            "2 - Validar várias transações\n",
            "3 - Sair\n",
            "\n",
            "Digite o número da operação que deseja realizar: 3\n"
          ]
        }
      ],
      "source": [
        "all_transactions = getTransactions()\n",
        "frauds = all_transactions[all_transactions.Class==1]\n",
        "valid_transactions = all_transactions[all_transactions.Class==0]\n",
        "\n",
        "option = 0\n",
        "while option != \"3\":\n",
        "  option = printMenu()\n",
        "\n",
        "  match option:\n",
        "    case \"1\":\n",
        "      singleTransactionValidation()\n",
        "    case \"2\":\n",
        "      manyTransactions()\n",
        "    case \"3\":\n",
        "      break\n",
        "    case _:\n",
        "      print(\"\\nOpção inválida, digite novamente\")"
      ]
    }
  ],
  "metadata": {
    "colab": {
      "provenance": [],
      "mount_file_id": "17rTBoK7s7lOsqxkdXMCcwQh66o-6xgrp",
      "authorship_tag": "ABX9TyNc+DWl2Vej+E04i5us6HJN",
      "include_colab_link": true
    },
    "kernelspec": {
      "display_name": "Python 3",
      "name": "python3"
    },
    "language_info": {
      "name": "python"
    }
  },
  "nbformat": 4,
  "nbformat_minor": 0
}